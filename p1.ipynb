{
 "cells": [
  {
   "cell_type": "code",
   "execution_count": null,
   "metadata": {},
   "outputs": [],
   "source": [
    "'''\n",
    "!pip install python-chess==0.31.2\n",
    "%ls\n",
    "!unzip src.zip\n",
    "'''"
   ]
  },
  {
   "cell_type": "code",
   "execution_count": 24,
   "metadata": {},
   "outputs": [
    {
     "name": "stderr",
     "output_type": "stream",
     "text": [
      "2024-07-29 08:36:41.789315: I tensorflow/core/util/port.cc:110] oneDNN custom operations are on. You may see slightly different numerical results due to floating-point round-off errors from different computation orders. To turn them off, set the environment variable `TF_ENABLE_ONEDNN_OPTS=0`.\n",
      "2024-07-29 08:36:41.840910: I tensorflow/core/platform/cpu_feature_guard.cc:182] This TensorFlow binary is optimized to use available CPU instructions in performance-critical operations.\n",
      "To enable the following instructions: SSE4.1 SSE4.2 AVX AVX2 AVX512F AVX512_VNNI FMA, in other operations, rebuild TensorFlow with the appropriate compiler flags.\n"
     ]
    }
   ],
   "source": [
    "import chess\n",
    "import sys\n",
    "import torch\n",
    "import random\n",
    "from transformers import GPT2LMHeadModel, AutoModel\n",
    "sys.path.append(\"src\")\n",
    "from data_utils.chess_tokenizer import ChessTokenizer\n",
    "import chess.pgn as pgn\n",
    "import io"
   ]
  },
  {
   "cell_type": "code",
   "execution_count": 25,
   "metadata": {},
   "outputs": [
    {
     "name": "stderr",
     "output_type": "stream",
     "text": [
      "/opt/conda/lib/python3.10/site-packages/huggingface_hub/file_download.py:1132: FutureWarning: `resume_download` is deprecated and will be removed in version 1.0.0. Downloads always resume when possible. If you want to force a new download, use `force_download=True`.\n",
      "  warnings.warn(\n"
     ]
    }
   ],
   "source": [
    "# Initialize the Model and the Tokenizer\n",
    "\n",
    "vocab_path = \"vocab.txt\"\n",
    "tokenizer = ChessTokenizer(vocab_path)\n",
    "model = GPT2LMHeadModel.from_pretrained('shtoshni/gpt2-chess-uci')"
   ]
  },
  {
   "cell_type": "code",
   "execution_count": 26,
   "metadata": {},
   "outputs": [],
   "source": [
    "def get_legal_moves(board):\n",
    "  legal_moves = set()\n",
    "  for move in board.legal_moves:\n",
    "    uci_move = board.uci(move)\n",
    "    legal_moves.add(uci_move)\n",
    "  return legal_moves"
   ]
  },
  {
   "cell_type": "code",
   "execution_count": 27,
   "metadata": {},
   "outputs": [],
   "source": [
    "# input as the PGN of the game. It gets converted in UCI\n",
    "\n",
    "b = \"1. b3 e5 2. Bb2 Nc6 3. e3 d5 4. Bb5 Bd6 5. f4 Qf6 6. Nf3 e4 7. Bxf6 Nxf6 8. Nd4\"\n",
    "#b = \"1. Nf3 a6 2. g3 b5 3. Bg2 Bb7 4. O-O c5 5. a4 b4 6. d4 cxd4 7. Nxd4 Bxg2 8. Kxg2 Nf6 9. c3 e6 10. cxb4 Bxb4 11. Bd2 Qb6 12. Nf3 Nc6 13. Nc3 Rb8 14. Be3 Qb7 15. h4 O-O 16. Bg5 Bxc3 17. bxc3 Ne4 18. Qd3 Nxg5 19. hxg5 Ne5 20. Qc2 f5 21. gxf6 Rxf6 22. Rh1 h6 23. Qd1 Rbf8 24. Rb1 Qc6 25. Rf1 Nxf3 26. exf3 Rxf3 27. Kg1 Qc5 28. Kg2 Qc6 29. Kg1 Rxc3 30. Qd4 Qc5 31. Qxc5 Rxc5 32. Rfd1 d5 33. Rb6 Ra5 34. Rxe6 Rxa4 35. Rxd5 Ra1+ 36. Kg2 Ra2 37. Rd7 Raxf2+ 38. Kh3 R2f6\"\n"
   ]
  },
  {
   "cell_type": "code",
   "execution_count": 33,
   "metadata": {},
   "outputs": [
    {
     "name": "stdout",
     "output_type": "stream",
     "text": [
      "1.d4 d5 2.c4 e5 3.dxe5 d4 4.f4 Nc6 5.Nf3 Bg4 6.g3 Qd7 7.Kf2 O-O-O 8.Bg2 f6 9.h3 Be6 10.exf6 Nxf6 11.Nbd2 Bc5 12.Kf1 h6 13.a3 a5 14.b3 Rhf8 15.Bb2 g5 16.Ke1 gxf4 17.gxf4 Nh5 18.Ne4 Nxf4 19.Nxc5 Nxg2+ 20.Kd2 Qf7 21.Nxe6 Qxe6 22.Kc1 Qe3+ 23.Kb1 Nf4 24.Re1 d3 25.Bc1 Qe4 26.Nd2 Qf5 27.e3 Ne2 28.Bb2 Rfe8\n"
     ]
    }
   ],
   "source": [
    "from datasets import load_dataset\n",
    "\n",
    "ds = load_dataset(\"adamkarvonen/chess_sae_individual_games_filtered\")\n",
    "a = ds['train']['text'][4]\n",
    "b = a[1:300]\n",
    "print(b)"
   ]
  },
  {
   "cell_type": "code",
   "execution_count": 60,
   "metadata": {},
   "outputs": [],
   "source": [
    "import random\n",
    "\n",
    "def chop_game_at_random_point(pgn):\n",
    "    # Split the PGN string into individual moves\n",
    "    moves = pgn.split()\n",
    "    \n",
    "    # Filter out the move numbers (e.g., \"1.\", \"2.\", etc.)\n",
    "    game_moves = [move for move in moves if not move[0].isdigit()]\n",
    "    \n",
    "    # Determine the total number of moves\n",
    "    total_moves = len(game_moves)\n",
    "    \n",
    "    # Ensure we have an even number of moves for simplicity\n",
    "    if total_moves % 2 != 0:\n",
    "        total_moves -= 1\n",
    "    \n",
    "    # Randomly choose a point to chop, ensuring 50/50 white/black split\n",
    "    random_index = random.randint(7, total_moves - 1)\n",
    "    \n",
    "    # Determine if the random point should be a white or black move\n",
    "    if random_index % 2 == 0:\n",
    "        chopped_game = ' '.join(moves[:random_index + 1])\n",
    "    else:\n",
    "        chopped_game = ' '.join(moves[:random_index + 2])\n",
    "    \n",
    "    return chopped_game\n",
    "\n",
    "\n"
   ]
  },
  {
   "cell_type": "code",
   "execution_count": 41,
   "metadata": {},
   "outputs": [
    {
     "name": "stdout",
     "output_type": "stream",
     "text": [
      "1.d4 d5 2.c4 e5 3.dxe5 d4 4.f4 Nc6 5.Nf3 Bg4 6.g3 Qd7 7.Kf2 O-O-O 8.Bg2 f6 9.h3 Be6 10.exf6 Nxf6 11.Nbd2 Bc5 12.Kf1 h6 13.a3 a5 14.b3 Rhf8 15.Bb2 g5 16.Ke1 gxf4 17.gxf4 Nh5 18.Ne4 Nxf4 19.Nxc5 Nxg2+ 20.Kd2 Qf7 21.Nxe6 Qxe6 22.Kc1 Qe3+ 23.Kb1 Nf4 24.Re1 d3 25.Bc1 Qe4 26.Nd2 Qf5 27.e3 Ne2 28.Bb2 Rfe8 29.Ka2 Rxe3 30.Rf1 Qxh3 31.c5 Ned4 32.Nc4 Re2 33.Rc1 Qg2 34.Rc3 \n",
      "1. Nf3 a6 2. g3 b5 3. Bg2 Bb7 4. O-O c5 5. a4 b4 6. d4\n"
     ]
    }
   ],
   "source": [
    "# Example PGN game\n",
    "pgn_game = \"1. Nf3 a6 2. g3 b5 3. Bg2 Bb7 4. O-O c5 5. a4 b4 6. d4 cxd4 7. Nxd4 Bxg2 8. Kxg2 Nf6 9. c3 e6 10. cxb4 Bxb4 11. Bd2 Qb6 12. Nf3 Nc6 13. Nc3 Rb8 14. Be3 Qb7 15. h4 O-O 16. Bg5 Bxc3 17. bxc3 Ne4 18. Qd3 Nxg5 19. hxg5 Ne5 20. Qc2 f5 21. gxf6 Rxf6 22. Rh1 h6 23. Qd1 Rbf8 24. Rb1 Qc6 25. Rf1 Nxf3 26. exf3 Rxf3 27. Kg1 Qc5 28. Kg2 Qc6 29. Kg1 Rxc3 30. Qd4 Qc5 31. Qxc5 Rxc5 32. Rfd1 d5 33. Rb6 Ra5 34. Rxe6 Rxa4 35. Rxd5 Ra1+ 36. Kg2 Ra2 37. Rd7 Raxf2+ 38. Kh3 R2f6\"\n",
    "a = ds['train']['text'][4][1:]\n",
    "print(a)\n",
    "# Run the function and print the result\n",
    "chopped_game = chop_game_at_random_point(pgn_game)\n",
    "print(chopped_game)"
   ]
  },
  {
   "cell_type": "code",
   "execution_count": 67,
   "metadata": {},
   "outputs": [],
   "source": [
    "g = random.randint(0, 90000)\n",
    "a = ds['train']['text'][g][1:]\n",
    "b = chop_game_at_random_point(a)"
   ]
  },
  {
   "cell_type": "code",
   "execution_count": 68,
   "metadata": {},
   "outputs": [
    {
     "name": "stdout",
     "output_type": "stream",
     "text": [
      "e2e4 g7g6 g1f3 f8g7 b1c3 e7e6 d2d4 g8e7 e4e5 d7d6 f1e2 d6e5 d4e5 d8d1 e2d1 b8c6 e1g1 c6e5 f3e5 g7e5 f1e1 e5g7 c1d2 e8g8 a1b1 b7b6 c3b5 c7c6 d1f3 c8a6 b5c7\n"
     ]
    }
   ],
   "source": [
    "b1 = io.StringIO(b)\n",
    "game = pgn.read_game(b1)\n",
    "board = game.board()\n",
    "\n",
    "move_list = []\n",
    "for move in game.mainline_moves():\n",
    "    move_list.append(board.uci(move))\n",
    "    board.push(move)\n",
    "b1 = (\" \".join(move_list))\n",
    "\n",
    "\n",
    "#print(board)\n",
    "#print(game.mainline_moves())\n",
    "print(b1)"
   ]
  },
  {
   "cell_type": "code",
   "execution_count": null,
   "metadata": {},
   "outputs": [],
   "source": [
    "# To make the model predict only 'half' of the move, add initial square of the next move\n",
    "initial_square = \"a2\"\n",
    "b2 = b1 + \" \" + initial_square\n",
    "print(b1)\n",
    "# and put range(1) below  \n"
   ]
  },
  {
   "cell_type": "code",
   "execution_count": 75,
   "metadata": {},
   "outputs": [],
   "source": [
    "# here move = the game, can be move = new move (but changing)\n",
    "\n",
    "def predict_move1(move):\n",
    "\n",
    "    game_prefix = [tokenizer.bos_token_id]\n",
    "    game_prefix_str = \"\"\n",
    "\n",
    "    game_prefix.extend(tokenizer.encode(move, add_special_tokens=False, get_move_end_positions=False))\n",
    "    game_prefix_str += move + \" \"\n",
    "\n",
    "    greedy_game_prefix = list(game_prefix)\n",
    "    prefix_tens = torch.tensor([greedy_game_prefix])\n",
    "    pred_move = \"\"\n",
    "\n",
    "    #range was 3 in orig.\n",
    "    for idx in range(3):\n",
    "        logits = model(prefix_tens)[0]\n",
    "        \n",
    "        # logits is a 3-dimensional tensor with the shape [batch_size, sequence_length, vocab_size].\n",
    "        # --> Extracting the logits for the last token.\n",
    "        last_token_logit = logits[0, -1, :]\n",
    "\n",
    "        token_idx = torch.argmax(last_token_logit).item()\n",
    "        \n",
    "        current_token = tokenizer.decode_token(token_idx)\n",
    "        pred_move += current_token\n",
    "\n",
    "        if idx == 0 and current_token == tokenizer.eos_token:\n",
    "            break\n",
    "\n",
    "        greedy_game_prefix += [token_idx]\n",
    "        prefix_tens = torch.tensor([greedy_game_prefix])\n",
    "\n",
    "    if len(pred_move) == 6:\n",
    "        pred_move = pred_move[:4]\n",
    "\n",
    "    legal_moves = get_legal_moves(board)\n",
    "    if pred_move not in legal_moves:\n",
    "        print(\"ILLEGAL MOVE\")\n",
    "        print(f\"Legal moves: {legal_moves}\")\n",
    "\n",
    "    print(f\"LM plays: {pred_move}\")"
   ]
  },
  {
   "cell_type": "code",
   "execution_count": 74,
   "metadata": {},
   "outputs": [],
   "source": [
    "# probing to see if the game provides legal moves given the starting square\n",
    "\n",
    "def probing_legal_moves1(move0):\n",
    "    legal_moves = get_legal_moves(board)\n",
    "    illegal_count = 0\n",
    "    for leg_move in legal_moves:\n",
    "\n",
    "        initial_square = leg_move[:2]\n",
    "        move = move0 + \" \" + initial_square\n",
    "\n",
    "        game_prefix = [tokenizer.bos_token_id]\n",
    "        game_prefix_str = \"\"\n",
    "\n",
    "        game_prefix.extend(tokenizer.encode(move, add_special_tokens=False, get_move_end_positions=False))\n",
    "        game_prefix_str += move + \" \"\n",
    "\n",
    "        greedy_game_prefix = list(game_prefix)\n",
    "        prefix_tens = torch.tensor([greedy_game_prefix])\n",
    "        pred_move = \"\"\n",
    "\n",
    "        for idx in range(1):\n",
    "            logits = model(prefix_tens)[0]\n",
    "            \n",
    "            # logits is a 3-dimensional tensor with the shape [batch_size, sequence_length, vocab_size].\n",
    "            # --> Extracting the logits for the last token.\n",
    "            last_token_logit = logits[0, -1, :]\n",
    "\n",
    "            token_idx = torch.argmax(last_token_logit).item()\n",
    "            \n",
    "            current_token = tokenizer.decode_token(token_idx)\n",
    "            pred_move += current_token\n",
    "\n",
    "            if idx == 0 and current_token == tokenizer.eos_token:\n",
    "                break\n",
    "\n",
    "            greedy_game_prefix += [token_idx]\n",
    "            prefix_tens = torch.tensor([greedy_game_prefix])\n",
    "\n",
    "        if len(pred_move) == 6:\n",
    "            pred_move = pred_move[:4]\n",
    "\n",
    "\n",
    "        pred_move = initial_square + pred_move\n",
    "        if pred_move not in legal_moves:\n",
    "            #print(\"ILLEGAL MOVE\")\n",
    "            #print(f\"Legal moves: {legal_moves}\")\n",
    "            illegal_count += 1\n",
    "\n",
    "        #print(f\"LM plays: {pred_move}\")\n",
    "\n",
    "    print(f\"Ratio legal/total: {len(legal_moves)-illegal_count} / {len(legal_moves)}\")"
   ]
  },
  {
   "cell_type": "code",
   "execution_count": 79,
   "metadata": {},
   "outputs": [
    {
     "name": "stdout",
     "output_type": "stream",
     "text": [
      "1.e4 e6 2.Nf3 g6 3.c3 Bh6 4.Be2 b6 5.O-O g5 6.h3 d6 7.Na3\n",
      "e2e4 e7e6 g1f3 g7g6 c2c3 f8h6 f1e2 b7b6 e1g1 g6g5 h2h3 d7d6 b1a3\n",
      "LM plays: a7a6\n",
      "Ratio legal/total: 26 / 26\n"
     ]
    }
   ],
   "source": [
    "g = random.randint(0, 90000)\n",
    "a = ds['train']['text'][g][1:]\n",
    "b = chop_game_at_random_point(a)\n",
    "\n",
    "b1 = io.StringIO(b)\n",
    "game = pgn.read_game(b1)\n",
    "board = game.board()\n",
    "\n",
    "move_list = []\n",
    "for move in game.mainline_moves():\n",
    "    move_list.append(board.uci(move))\n",
    "    board.push(move)\n",
    "b1 = (\" \".join(move_list))\n",
    "\n",
    "print(b)\n",
    "print(b1)\n",
    "\n",
    "move = b1\n",
    "predict_move1(move)\n",
    "probing_legal_moves1(move)"
   ]
  }
 ],
 "metadata": {
  "kernelspec": {
   "display_name": "base",
   "language": "python",
   "name": "python3"
  },
  "language_info": {
   "codemirror_mode": {
    "name": "ipython",
    "version": 3
   },
   "file_extension": ".py",
   "mimetype": "text/x-python",
   "name": "python",
   "nbconvert_exporter": "python",
   "pygments_lexer": "ipython3",
   "version": "3.10.14"
  }
 },
 "nbformat": 4,
 "nbformat_minor": 2
}
